{
  "nbformat": 4,
  "nbformat_minor": 0,
  "metadata": {
    "colab": {
      "provenance": [],
      "authorship_tag": "ABX9TyOCvdF61Ix5uvrB12tZ0ITE",
      "include_colab_link": true
    },
    "kernelspec": {
      "name": "python3",
      "display_name": "Python 3"
    },
    "language_info": {
      "name": "python"
    }
  },
  "cells": [
    {
      "cell_type": "markdown",
      "metadata": {
        "id": "view-in-github",
        "colab_type": "text"
      },
      "source": [
        "<a href=\"https://colab.research.google.com/github/09eesx/forensic-emotion-ai/blob/main/data_augmentation_and_balance.ipynb\" target=\"_parent\"><img src=\"https://colab.research.google.com/assets/colab-badge.svg\" alt=\"Open In Colab\"/></a>"
      ]
    },
    {
      "cell_type": "code",
      "execution_count": null,
      "metadata": {
        "id": "ndPiByuldGZY"
      },
      "outputs": [],
      "source": [
        "# 🔹 2. Manuel oversampling (dengesiz sınıflar)\n",
        "print(\" Sınıf sayıları (önce):\")\n",
        "print(all_data[\"label\"].value_counts())\n",
        "\n",
        "oversample_labels = [\"kişilik bozukluğu\",\"hakaret\",\"tehdit\"]\n",
        "for label in oversample_labels:\n",
        "    target_df = all_data[all_data[\"label\"] == label]\n",
        "    for _ in range(20):  # 20 kat çoğalt\n",
        "        all_data = pd.concat([all_data, target_df], ignore_index=True)\n",
        "\n",
        "print(\"\\n📈 Sınıf sayıları (sonra):\")\n",
        "print(all_data[\"label\"].value_counts())\n",
        "\n",
        "\n",
        "# Her sınıftan en az 150 örnek al\n",
        "df_balanced = all_data.groupby(\"label\").apply(lambda x: x.sample(min(150, len(x)), random_state=42)).reset_index(drop=True)\n",
        "\n",
        "# Her sınıftan 10000 örnek al\n",
        "df_filtered = all_data.groupby(\"label\").apply(lambda x: x.sample(min(len(x), 10000), random_state=42))\n",
        "df_filtered = df_filtered.reset_index(drop=True)\n",
        "\n",
        "# Yeni sınıf dağılımını görelim\n",
        "print(\" Yeni sınıf dağılımı:\")\n",
        "print(df_filtered[\"label\"].value_counts())\n",
        "\n",
        "# Kaydet\n",
        "df_filtered.to_csv(\"/content/drive/MyDrive/data/train_cleaned_balanced2.csv\", index=False)\n",
        "\n"
      ]
    }
  ]
}